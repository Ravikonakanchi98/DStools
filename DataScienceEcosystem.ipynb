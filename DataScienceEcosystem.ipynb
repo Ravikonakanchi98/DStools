{
  "metadata": {
    "kernelspec": {
      "name": "python",
      "display_name": "Python (Pyodide)",
      "language": "python"
    },
    "language_info": {
      "codemirror_mode": {
        "name": "python",
        "version": 3
      },
      "file_extension": ".py",
      "mimetype": "text/x-python",
      "name": "python",
      "nbconvert_exporter": "python",
      "pygments_lexer": "ipython3",
      "version": "3.8"
    }
  },
  "nbformat_minor": 4,
  "nbformat": 4,
  "cells": [
    {
      "cell_type": "markdown",
      "source": "# Data Science Tools and Ecosystem",
      "metadata": {}
    },
    {
      "cell_type": "markdown",
      "source": "Data Science is a vast field that combination of machine learning, data visualization, statistical analysis and computer science to extract patterns from the structured and unstructured data.\n\nThe of componets Of DS:\n- Data Managemnt :\n                  Data is collected from diffrent sources like Api, Database, Social media,IOT and the      collected data contains missing values,null values,errors and inconsistencies.\n- Data Visualization :\n                  Data Visualization is a Critical factor of Data Science it can be represented in Charts, Maps, Dashboards and Network Diagram.\n- Machine Learning :\n                  Machine Learning algorithms allow computers to learn models and patterns from the data.",
      "metadata": {}
    },
    {
      "cell_type": "markdown",
      "source": "* Objectives:\n  - Introduction to Data Science Tools:\n                                       Understand the Key concepts of a Data Science tools.\n                                       EX:Open-source,commerical,cloud-based.\n  -  Exploration of Data Science Languages:\n                                       Learn about different programming languages.\n                                       Ex:python,R,SQL.\n  - Deep Dive into Packages,APIs,Data Sets and Models:\n                                       Gain knowledge of Libraries,REST APIs,Data Sets.\n  I understand the essential tools,languages and resources used in data Science. ",
      "metadata": {}
    },
    {
      "cell_type": "markdown",
      "source": " Some of the Popular Languages that Data Scientists use are:\n- Python\n- R Language\n- SQL\n- JavaScript\n- Go\n- Scala",
      "metadata": {}
    },
    {
      "cell_type": "markdown",
      "source": "Some of the commonly used libraries used by Data Scientists:\n- Numpy\n- Pandas\n- Matplotlib\n- Seaborn\n- Pytorch",
      "metadata": {}
    },
    {
      "cell_type": "markdown",
      "source": "### Table\n|Data Science Tools|\n|------------------|\n|Jupyter Notebook  |\n|Rstudio           |\n|Apache Hadoop     |\n|TensorFlow        |",
      "metadata": {}
    },
    {
      "cell_type": "markdown",
      "source": "### Below are a few examples of evaluating arithmetic expressions in Python.",
      "metadata": {}
    },
    {
      "cell_type": "markdown",
      "source": "This is a simple arithmetic expression to mutiply then add integers ",
      "metadata": {}
    },
    {
      "cell_type": "code",
      "source": "(3*4)+5",
      "metadata": {
        "trusted": true
      },
      "outputs": [
        {
          "execution_count": 5,
          "output_type": "execute_result",
          "data": {
            "text/plain": "17"
          },
          "metadata": {}
        }
      ],
      "execution_count": 5
    },
    {
      "cell_type": "code",
      "source": "def convert_min_to_h(min):\n    h = min / 60 \n    return h\nmin = 200\nh = convert_minutes_to_hours(min)\nprint(f\"{min} minutes is equal to {h} h.\")\n",
      "metadata": {
        "trusted": true
      },
      "outputs": [
        {
          "name": "stdout",
          "text": "200 minutes is equal to 3.3333333333333335 h.\n",
          "output_type": "stream"
        }
      ],
      "execution_count": 10
    },
    {
      "cell_type": "markdown",
      "source": "## Author\n Ravi",
      "metadata": {}
    }
  ]
}